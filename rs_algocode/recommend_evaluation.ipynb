{
 "cells": [
  {
   "cell_type": "code",
   "execution_count": 176,
   "id": "20781278",
   "metadata": {},
   "outputs": [],
   "source": [
    "import pandas as pd\n",
    "import numpy as np\n",
    "\n",
    "from sklearn.metrics.pairwise import cosine_similarity\n",
    "from surprise import SVD, Reader, Dataset, accuracy\n",
    "from surprise.model_selection import train_test_split\n",
    "from surprise import NormalPredictor\n",
    "from surprise.model_selection import cross_validate\n",
    "from surprise import KNNBasic\n"
   ]
  },
  {
   "cell_type": "code",
   "execution_count": 9,
   "id": "b17d9930",
   "metadata": {},
   "outputs": [],
   "source": [
    "PATH_MOIVES='./ml-1m/movies.txt'\n",
    "PATH_RATINGS='./ml-1m/ratings.txt'\n",
    "PATH_USERS='./ml-1m/users.txt'\n",
    "data_movie = pd.read_csv(PATH_MOIVES, sep='::', header=None, names=['MovieID','MovieName','genre'],engine='python')\n",
    "data_ratings = pd.read_csv(PATH_RATINGS, sep='::', header=None, names=['UserID','MovieID','Rating','Timestamp'],engine='python')\n",
    "data_users = pd.read_csv(PATH_USERS, sep='::', header=None, names=['UserID','Gender','Age','Occupation','Zip-code'],engine='python')\n"
   ]
  },
  {
   "cell_type": "code",
   "execution_count": 16,
   "id": "9801d175",
   "metadata": {
    "scrolled": true
   },
   "outputs": [],
   "source": [
    "##hybrid algorithm, content based similarity and model based cf \n",
    "def hybridrs_itembased(user_id,movie_id,n_recs,df,cosine_sim,svd_model):\n",
    "    ##sort similarity, calculate the 30 most similiar movies\n",
    "    sim=list(enumerate(cosine_sim[int(movie_id)]))\n",
    "    sim=sorted(sim,key=lambda x: x[1],reverse=True)\n",
    "    sim=sim[1:30]\n",
    "    \n",
    "    ##get movie metadata\n",
    "    movie_idx=[i[0] for i in sim]\n",
    "    movies=df.iloc[movie_idx][['MovieID','MovieName','genre','Rating']]\n",
    "    \n",
    "    ##predict the movies ratings generates above, with svd\n",
    "    movies['est'] = movies.apply(lambda x: svd_model.predict(user_id, x['MovieID'], x['Rating']).est, axis = 1)\n",
    "        \n",
    "    ##sort predictions, give recommendation ranked by predict rating\n",
    "    movies=movies.sort_values('est',ascending=False)\n",
    "    return movies.head(n_recs)"
   ]
  },
  {
   "cell_type": "code",
   "execution_count": null,
   "id": "59009715",
   "metadata": {},
   "outputs": [],
   "source": []
  },
  {
   "cell_type": "code",
   "execution_count": 174,
   "id": "3f553ef9",
   "metadata": {
    "scrolled": false
   },
   "outputs": [
    {
     "name": "stdout",
     "output_type": "stream",
     "text": [
      "RMSE: 0.8831\n",
      "Evaluating RMSE of algorithm SVD on 10 split(s).\n",
      "\n",
      "                  Fold 1  Fold 2  Fold 3  Fold 4  Fold 5  Fold 6  Fold 7  Fold 8  Fold 9  Fold 10 Mean    Std     \n",
      "RMSE (testset)    0.8755  0.8703  0.8763  0.8724  0.8770  0.8714  0.8759  0.8730  0.8772  0.8784  0.8747  0.0026  \n",
      "Fit time          12.50   12.38   12.50   12.47   12.41   12.43   12.54   12.44   12.39   12.47   12.45   0.05    \n",
      "Test time         0.54    0.88    0.87    0.52    0.87    0.52    0.88    0.88    0.52    0.91    0.74    0.18    \n",
      "      MovieID                                  MovieName  \\\n",
      "201       260  Star Wars: Episode IV - A New Hope (1977)   \n",
      "3557      356                        Forrest Gump (1994)   \n",
      "5346     1307             When Harry Met Sally... (1989)   \n",
      "4389      903                             Vertigo (1958)   \n",
      "3899     1537   Shall We Dance? (Shall We Dansu?) (1996)   \n",
      "\n",
      "                                genre  Rating       est  \n",
      "201   Action|Adventure|Fantasy|Sci-Fi       5  4.549004  \n",
      "3557               Comedy|Romance|War       5  4.480178  \n",
      "5346                   Comedy|Romance       4  4.383471  \n",
      "4389                 Mystery|Thriller       4  4.314999  \n",
      "3899                           Comedy       4  4.269609  \n"
     ]
    }
   ],
   "source": [
    "if __name__=='__main__':\n",
    "##reading data\n",
    "\n",
    "    PATH_MOIVES='./ml-1m/movies.txt'\n",
    "    PATH_RATINGS='./ml-1m/ratings.txt'\n",
    "    PATH_USERS='./ml-1m/users.txt'\n",
    "    \n",
    "    data_movie = pd.read_csv(PATH_MOIVES, sep='::', header=None, names=['MovieID','MovieName','genre'],engine='python')\n",
    "    data_ratings = pd.read_csv(PATH_RATINGS, sep='::', header=None, names=['UserID','MovieID','Rating','Timestamp'],engine='python')\n",
    "    data_users = pd.read_csv(PATH_USERS, sep='::', header=None, names=['UserID','Gender','Age','Occupation','Zip-code'],engine='python')\n",
    "\n",
    "    ###merge tables\n",
    "    data_ratings=data_ratings.merge(data_movie,how='left',on='MovieID').fillna(0)\n",
    "    \n",
    "    ###read data\n",
    "    table=data_ratings.pivot_table(\n",
    "        columns='MovieID',\n",
    "        index='UserID',\n",
    "        values='Rating'\n",
    "        \n",
    "    ).fillna(0)\n",
    "    \n",
    "    ###compute cos similarity\n",
    "    cosine_sim=cosine_similarity(table,table)\n",
    "    cosine_sim = pd.DataFrame(cosine_sim,  index=table.index, columns=table.index)\n",
    "\n",
    "###generate dataset from data_ratings, \n",
    "    reader=Reader()\n",
    "    data=Dataset.load_from_df(data_ratings[['UserID','MovieID','Rating']],reader)\n",
    "    \n",
    "    ##split dataset\n",
    "    trainset,testset=train_test_split(data, test_size=0.2,random_state=0)\n",
    "\n",
    "##train model\n",
    "    svd=SVD(n_factors=20,n_epochs=15,biased=True)\n",
    "    svd.fit(trainset)\n",
    "\n",
    "##predict\n",
    "    test_pred=svd.test(testset)\n",
    "\n",
    "## get rmse\n",
    "    accuracy.rmse(test_pred, verbose=True)\n",
    "##evaluate \n",
    "    hybrid_svd=cross_validate(svd, data, measures=['rmse'], cv=10, verbose=True)\n",
    "## generate recommedationf\n",
    "    ##example\n",
    "    u_id=data_ratings['UserID'].values[0]\n",
    "    m_id=data_ratings['MovieID'].values[0]\n",
    "    \n",
    "    recs=5\n",
    "    rec_pd=hybridrs_itembased(u_id,m_id,recs,data_ratings,cosine_sim,svd)\n",
    "    print(rec_pd)"
   ]
  },
  {
   "cell_type": "code",
   "execution_count": 210,
   "id": "d7f05c93",
   "metadata": {},
   "outputs": [
    {
     "data": {
      "text/html": [
       "<div>\n",
       "<style scoped>\n",
       "    .dataframe tbody tr th:only-of-type {\n",
       "        vertical-align: middle;\n",
       "    }\n",
       "\n",
       "    .dataframe tbody tr th {\n",
       "        vertical-align: top;\n",
       "    }\n",
       "\n",
       "    .dataframe thead th {\n",
       "        text-align: right;\n",
       "    }\n",
       "</style>\n",
       "<table border=\"1\" class=\"dataframe\">\n",
       "  <thead>\n",
       "    <tr style=\"text-align: right;\">\n",
       "      <th></th>\n",
       "      <th>UserID</th>\n",
       "      <th>MovieID</th>\n",
       "      <th>Rating</th>\n",
       "      <th>Timestamp</th>\n",
       "      <th>MovieName</th>\n",
       "      <th>genre</th>\n",
       "    </tr>\n",
       "  </thead>\n",
       "  <tbody>\n",
       "    <tr>\n",
       "      <th>0</th>\n",
       "      <td>1</td>\n",
       "      <td>1193</td>\n",
       "      <td>5</td>\n",
       "      <td>978300760</td>\n",
       "      <td>One Flew Over the Cuckoo's Nest (1975)</td>\n",
       "      <td>Drama</td>\n",
       "    </tr>\n",
       "    <tr>\n",
       "      <th>1</th>\n",
       "      <td>1</td>\n",
       "      <td>661</td>\n",
       "      <td>3</td>\n",
       "      <td>978302109</td>\n",
       "      <td>James and the Giant Peach (1996)</td>\n",
       "      <td>Animation|Children's|Musical</td>\n",
       "    </tr>\n",
       "    <tr>\n",
       "      <th>2</th>\n",
       "      <td>1</td>\n",
       "      <td>914</td>\n",
       "      <td>3</td>\n",
       "      <td>978301968</td>\n",
       "      <td>My Fair Lady (1964)</td>\n",
       "      <td>Musical|Romance</td>\n",
       "    </tr>\n",
       "    <tr>\n",
       "      <th>3</th>\n",
       "      <td>1</td>\n",
       "      <td>3408</td>\n",
       "      <td>4</td>\n",
       "      <td>978300275</td>\n",
       "      <td>Erin Brockovich (2000)</td>\n",
       "      <td>Drama</td>\n",
       "    </tr>\n",
       "    <tr>\n",
       "      <th>4</th>\n",
       "      <td>1</td>\n",
       "      <td>2355</td>\n",
       "      <td>5</td>\n",
       "      <td>978824291</td>\n",
       "      <td>Bug's Life, A (1998)</td>\n",
       "      <td>Animation|Children's|Comedy</td>\n",
       "    </tr>\n",
       "    <tr>\n",
       "      <th>...</th>\n",
       "      <td>...</td>\n",
       "      <td>...</td>\n",
       "      <td>...</td>\n",
       "      <td>...</td>\n",
       "      <td>...</td>\n",
       "      <td>...</td>\n",
       "    </tr>\n",
       "    <tr>\n",
       "      <th>1000204</th>\n",
       "      <td>6040</td>\n",
       "      <td>1091</td>\n",
       "      <td>1</td>\n",
       "      <td>956716541</td>\n",
       "      <td>Weekend at Bernie's (1989)</td>\n",
       "      <td>Comedy</td>\n",
       "    </tr>\n",
       "    <tr>\n",
       "      <th>1000205</th>\n",
       "      <td>6040</td>\n",
       "      <td>1094</td>\n",
       "      <td>5</td>\n",
       "      <td>956704887</td>\n",
       "      <td>Crying Game, The (1992)</td>\n",
       "      <td>Drama|Romance|War</td>\n",
       "    </tr>\n",
       "    <tr>\n",
       "      <th>1000206</th>\n",
       "      <td>6040</td>\n",
       "      <td>562</td>\n",
       "      <td>5</td>\n",
       "      <td>956704746</td>\n",
       "      <td>Welcome to the Dollhouse (1995)</td>\n",
       "      <td>Comedy|Drama</td>\n",
       "    </tr>\n",
       "    <tr>\n",
       "      <th>1000207</th>\n",
       "      <td>6040</td>\n",
       "      <td>1096</td>\n",
       "      <td>4</td>\n",
       "      <td>956715648</td>\n",
       "      <td>Sophie's Choice (1982)</td>\n",
       "      <td>Drama</td>\n",
       "    </tr>\n",
       "    <tr>\n",
       "      <th>1000208</th>\n",
       "      <td>6040</td>\n",
       "      <td>1097</td>\n",
       "      <td>4</td>\n",
       "      <td>956715569</td>\n",
       "      <td>E.T. the Extra-Terrestrial (1982)</td>\n",
       "      <td>Children's|Drama|Fantasy|Sci-Fi</td>\n",
       "    </tr>\n",
       "  </tbody>\n",
       "</table>\n",
       "<p>1000209 rows × 6 columns</p>\n",
       "</div>"
      ],
      "text/plain": [
       "         UserID  MovieID  Rating  Timestamp  \\\n",
       "0             1     1193       5  978300760   \n",
       "1             1      661       3  978302109   \n",
       "2             1      914       3  978301968   \n",
       "3             1     3408       4  978300275   \n",
       "4             1     2355       5  978824291   \n",
       "...         ...      ...     ...        ...   \n",
       "1000204    6040     1091       1  956716541   \n",
       "1000205    6040     1094       5  956704887   \n",
       "1000206    6040      562       5  956704746   \n",
       "1000207    6040     1096       4  956715648   \n",
       "1000208    6040     1097       4  956715569   \n",
       "\n",
       "                                      MovieName  \\\n",
       "0        One Flew Over the Cuckoo's Nest (1975)   \n",
       "1              James and the Giant Peach (1996)   \n",
       "2                           My Fair Lady (1964)   \n",
       "3                        Erin Brockovich (2000)   \n",
       "4                          Bug's Life, A (1998)   \n",
       "...                                         ...   \n",
       "1000204              Weekend at Bernie's (1989)   \n",
       "1000205                 Crying Game, The (1992)   \n",
       "1000206         Welcome to the Dollhouse (1995)   \n",
       "1000207                  Sophie's Choice (1982)   \n",
       "1000208       E.T. the Extra-Terrestrial (1982)   \n",
       "\n",
       "                                   genre  \n",
       "0                                  Drama  \n",
       "1           Animation|Children's|Musical  \n",
       "2                        Musical|Romance  \n",
       "3                                  Drama  \n",
       "4            Animation|Children's|Comedy  \n",
       "...                                  ...  \n",
       "1000204                           Comedy  \n",
       "1000205                Drama|Romance|War  \n",
       "1000206                     Comedy|Drama  \n",
       "1000207                            Drama  \n",
       "1000208  Children's|Drama|Fantasy|Sci-Fi  \n",
       "\n",
       "[1000209 rows x 6 columns]"
      ]
     },
     "execution_count": 210,
     "metadata": {},
     "output_type": "execute_result"
    }
   ],
   "source": [
    "data_ratings"
   ]
  },
  {
   "cell_type": "code",
   "execution_count": null,
   "id": "0cb6c73e",
   "metadata": {},
   "outputs": [],
   "source": []
  },
  {
   "cell_type": "code",
   "execution_count": null,
   "id": "6489eb5c",
   "metadata": {},
   "outputs": [],
   "source": []
  },
  {
   "cell_type": "code",
   "execution_count": 211,
   "id": "3d1dbd72",
   "metadata": {},
   "outputs": [],
   "source": [
    "###select genre, then genarate several movie in this genre for users to rate\n",
    "def generate_movie(prefer_genres,data_movie):\n",
    "    ##generate movies for rating\n",
    "    rec_df=pd.DataFrame(columns=['MovieID','MovieName','genre','Ratings'])\n",
    "    for genre in prefer_genres:\n",
    "        pre_df=data_movie[data_movie['genre'].str.contains(genre)]\n",
    "        pre_df=pre_df.sample(n=5,axis=0)\n",
    "        rec_df=rec_df.append(pre_df)\n",
    "    return rec_df\n",
    "\n",
    "    "
   ]
  },
  {
   "cell_type": "code",
   "execution_count": 225,
   "id": "84b34793",
   "metadata": {
    "scrolled": true
   },
   "outputs": [
    {
     "name": "stderr",
     "output_type": "stream",
     "text": [
      "C:\\Users\\luoga\\AppData\\Local\\Temp/ipykernel_16364/226696044.py:8: FutureWarning: The frame.append method is deprecated and will be removed from pandas in a future version. Use pandas.concat instead.\n",
      "  rec_df=rec_df.append(pre_df)\n",
      "C:\\Users\\luoga\\AppData\\Local\\Temp/ipykernel_16364/226696044.py:8: FutureWarning: The frame.append method is deprecated and will be removed from pandas in a future version. Use pandas.concat instead.\n",
      "  rec_df=rec_df.append(pre_df)\n"
     ]
    },
    {
     "data": {
      "text/html": [
       "<div>\n",
       "<style scoped>\n",
       "    .dataframe tbody tr th:only-of-type {\n",
       "        vertical-align: middle;\n",
       "    }\n",
       "\n",
       "    .dataframe tbody tr th {\n",
       "        vertical-align: top;\n",
       "    }\n",
       "\n",
       "    .dataframe thead th {\n",
       "        text-align: right;\n",
       "    }\n",
       "</style>\n",
       "<table border=\"1\" class=\"dataframe\">\n",
       "  <thead>\n",
       "    <tr style=\"text-align: right;\">\n",
       "      <th></th>\n",
       "      <th>MovieID</th>\n",
       "      <th>MovieName</th>\n",
       "      <th>genre</th>\n",
       "      <th>Ratings</th>\n",
       "    </tr>\n",
       "  </thead>\n",
       "  <tbody>\n",
       "    <tr>\n",
       "      <th>1950</th>\n",
       "      <td>2019</td>\n",
       "      <td>Seven Samurai (The Magnificent Seven) (Shichin...</td>\n",
       "      <td>Action|Drama</td>\n",
       "      <td>5</td>\n",
       "    </tr>\n",
       "    <tr>\n",
       "      <th>1408</th>\n",
       "      <td>1432</td>\n",
       "      <td>Metro (1997)</td>\n",
       "      <td>Action</td>\n",
       "      <td>5</td>\n",
       "    </tr>\n",
       "    <tr>\n",
       "      <th>1563</th>\n",
       "      <td>1604</td>\n",
       "      <td>Money Talks (1997)</td>\n",
       "      <td>Action|Comedy</td>\n",
       "      <td>5</td>\n",
       "    </tr>\n",
       "    <tr>\n",
       "      <th>647</th>\n",
       "      <td>653</td>\n",
       "      <td>Dragonheart (1996)</td>\n",
       "      <td>Action|Adventure|Fantasy</td>\n",
       "      <td>5</td>\n",
       "    </tr>\n",
       "    <tr>\n",
       "      <th>1491</th>\n",
       "      <td>1527</td>\n",
       "      <td>Fifth Element, The (1997)</td>\n",
       "      <td>Action|Sci-Fi</td>\n",
       "      <td>5</td>\n",
       "    </tr>\n",
       "    <tr>\n",
       "      <th>588</th>\n",
       "      <td>592</td>\n",
       "      <td>Batman (1989)</td>\n",
       "      <td>Action|Adventure|Crime|Drama</td>\n",
       "      <td>5</td>\n",
       "    </tr>\n",
       "    <tr>\n",
       "      <th>2468</th>\n",
       "      <td>2537</td>\n",
       "      <td>Beyond the Poseidon Adventure (1979)</td>\n",
       "      <td>Adventure</td>\n",
       "      <td>5</td>\n",
       "    </tr>\n",
       "    <tr>\n",
       "      <th>2104</th>\n",
       "      <td>2173</td>\n",
       "      <td>Navigator: A Mediaeval Odyssey, The (1988)</td>\n",
       "      <td>Adventure|Fantasy|Sci-Fi</td>\n",
       "      <td>5</td>\n",
       "    </tr>\n",
       "    <tr>\n",
       "      <th>2802</th>\n",
       "      <td>2871</td>\n",
       "      <td>Deliverance (1972)</td>\n",
       "      <td>Adventure|Thriller</td>\n",
       "      <td>5</td>\n",
       "    </tr>\n",
       "    <tr>\n",
       "      <th>124</th>\n",
       "      <td>126</td>\n",
       "      <td>NeverEnding Story III, The (1994)</td>\n",
       "      <td>Adventure|Children's|Fantasy</td>\n",
       "      <td>5</td>\n",
       "    </tr>\n",
       "  </tbody>\n",
       "</table>\n",
       "</div>"
      ],
      "text/plain": [
       "     MovieID                                          MovieName  \\\n",
       "1950    2019  Seven Samurai (The Magnificent Seven) (Shichin...   \n",
       "1408    1432                                       Metro (1997)   \n",
       "1563    1604                                 Money Talks (1997)   \n",
       "647      653                                 Dragonheart (1996)   \n",
       "1491    1527                          Fifth Element, The (1997)   \n",
       "588      592                                      Batman (1989)   \n",
       "2468    2537               Beyond the Poseidon Adventure (1979)   \n",
       "2104    2173         Navigator: A Mediaeval Odyssey, The (1988)   \n",
       "2802    2871                                 Deliverance (1972)   \n",
       "124      126                  NeverEnding Story III, The (1994)   \n",
       "\n",
       "                             genre  Ratings  \n",
       "1950                  Action|Drama        5  \n",
       "1408                        Action        5  \n",
       "1563                 Action|Comedy        5  \n",
       "647       Action|Adventure|Fantasy        5  \n",
       "1491                 Action|Sci-Fi        5  \n",
       "588   Action|Adventure|Crime|Drama        5  \n",
       "2468                     Adventure        5  \n",
       "2104      Adventure|Fantasy|Sci-Fi        5  \n",
       "2802            Adventure|Thriller        5  \n",
       "124   Adventure|Children's|Fantasy        5  "
      ]
     },
     "execution_count": 225,
     "metadata": {},
     "output_type": "execute_result"
    }
   ],
   "source": [
    "prefer_genres=['Action','Adventure']\n",
    "user=generate_movie(prefer_genres,data_movie)\n",
    "user.loc[:,'Ratings']=5\n",
    "user"
   ]
  },
  {
   "cell_type": "code",
   "execution_count": 226,
   "id": "b2b406eb",
   "metadata": {},
   "outputs": [
    {
     "data": {
      "text/html": [
       "<div>\n",
       "<style scoped>\n",
       "    .dataframe tbody tr th:only-of-type {\n",
       "        vertical-align: middle;\n",
       "    }\n",
       "\n",
       "    .dataframe tbody tr th {\n",
       "        vertical-align: top;\n",
       "    }\n",
       "\n",
       "    .dataframe thead th {\n",
       "        text-align: right;\n",
       "    }\n",
       "</style>\n",
       "<table border=\"1\" class=\"dataframe\">\n",
       "  <thead>\n",
       "    <tr style=\"text-align: right;\">\n",
       "      <th></th>\n",
       "      <th>MovieID</th>\n",
       "      <th>MovieName</th>\n",
       "      <th>genre</th>\n",
       "      <th>Rating</th>\n",
       "      <th>est</th>\n",
       "    </tr>\n",
       "  </thead>\n",
       "  <tbody>\n",
       "    <tr>\n",
       "      <th>1203</th>\n",
       "      <td>2997</td>\n",
       "      <td>Being John Malkovich (1999)</td>\n",
       "      <td>Comedy</td>\n",
       "      <td>4</td>\n",
       "      <td>4.588538</td>\n",
       "    </tr>\n",
       "    <tr>\n",
       "      <th>2934</th>\n",
       "      <td>904</td>\n",
       "      <td>Rear Window (1954)</td>\n",
       "      <td>Mystery|Thriller</td>\n",
       "      <td>3</td>\n",
       "      <td>4.560063</td>\n",
       "    </tr>\n",
       "    <tr>\n",
       "      <th>3850</th>\n",
       "      <td>1266</td>\n",
       "      <td>Unforgiven (1992)</td>\n",
       "      <td>Western</td>\n",
       "      <td>3</td>\n",
       "      <td>4.379388</td>\n",
       "    </tr>\n",
       "    <tr>\n",
       "      <th>4131</th>\n",
       "      <td>3396</td>\n",
       "      <td>Muppet Movie, The (1979)</td>\n",
       "      <td>Children's|Comedy</td>\n",
       "      <td>4</td>\n",
       "      <td>4.030970</td>\n",
       "    </tr>\n",
       "    <tr>\n",
       "      <th>603</th>\n",
       "      <td>1411</td>\n",
       "      <td>Hamlet (1996)</td>\n",
       "      <td>Drama</td>\n",
       "      <td>5</td>\n",
       "      <td>4.013914</td>\n",
       "    </tr>\n",
       "  </tbody>\n",
       "</table>\n",
       "</div>"
      ],
      "text/plain": [
       "      MovieID                    MovieName              genre  Rating  \\\n",
       "1203     2997  Being John Malkovich (1999)             Comedy       4   \n",
       "2934      904           Rear Window (1954)   Mystery|Thriller       3   \n",
       "3850     1266            Unforgiven (1992)            Western       3   \n",
       "4131     3396     Muppet Movie, The (1979)  Children's|Comedy       4   \n",
       "603      1411                Hamlet (1996)              Drama       5   \n",
       "\n",
       "           est  \n",
       "1203  4.588538  \n",
       "2934  4.560063  \n",
       "3850  4.379388  \n",
       "4131  4.030970  \n",
       "603   4.013914  "
      ]
     },
     "execution_count": 226,
     "metadata": {},
     "output_type": "execute_result"
    }
   ],
   "source": [
    "rec_pd=hybridrs_itembased(1505,1544,recs,data_ratings,cosine_sim,svd)\n",
    "rec_pd"
   ]
  },
  {
   "cell_type": "markdown",
   "id": "f973cac6",
   "metadata": {},
   "source": [
    "### basemodel"
   ]
  },
  {
   "cell_type": "code",
   "execution_count": 129,
   "id": "5d2203cc",
   "metadata": {},
   "outputs": [
    {
     "name": "stdout",
     "output_type": "stream",
     "text": [
      "RMSE: 1.5064\n"
     ]
    },
    {
     "data": {
      "text/plain": [
       "1.5063534244900583"
      ]
     },
     "execution_count": 129,
     "metadata": {},
     "output_type": "execute_result"
    }
   ],
   "source": [
    "\n",
    "###use a random prediction as the base model \n",
    "\n",
    "algo=NormalPredictor()\n",
    "\n",
    "algo.fit(trainset)\n",
    "test_pred=algo.test(testset)\n",
    "\n",
    "accuracy.rmse(test_pred, verbose=True)\n"
   ]
  },
  {
   "cell_type": "code",
   "execution_count": 131,
   "id": "7a6cb8c3",
   "metadata": {},
   "outputs": [
    {
     "name": "stdout",
     "output_type": "stream",
     "text": [
      "Evaluating RMSE of algorithm NormalPredictor on 10 split(s).\n",
      "\n",
      "                  Fold 1  Fold 2  Fold 3  Fold 4  Fold 5  Fold 6  Fold 7  Fold 8  Fold 9  Fold 10 Mean    Std     \n",
      "RMSE (testset)    1.4657  1.5452  1.4776  1.4591  1.4995  1.3951  1.5533  1.4535  1.6671  1.6228  1.5139  0.0790  \n",
      "Fit time          0.00    0.00    0.00    0.00    0.00    0.00    0.00    0.00    0.00    0.00    0.00    0.00    \n",
      "Test time         0.00    0.00    0.00    0.00    0.00    0.00    0.00    0.00    0.00    0.00    0.00    0.00    \n"
     ]
    }
   ],
   "source": [
    "base_model = cross_validate(algo, data, measures=['rmse'], cv=10, verbose=True)"
   ]
  },
  {
   "cell_type": "markdown",
   "id": "cd39bc76",
   "metadata": {},
   "source": [
    "### model based SVD"
   ]
  },
  {
   "cell_type": "code",
   "execution_count": 167,
   "id": "52658b96",
   "metadata": {},
   "outputs": [],
   "source": [
    "###test the significance of content based algo\n",
    "\n",
    "##without content based method, randonly sample 30 movies \n",
    "from surprise.model_selection import cross_validate\n",
    "from surprise.model_selection import GridSearchCV\n",
    "\n",
    "\n",
    "SVD_param_grid = {\n",
    "    'n_factors':[5,10,15,20,25,30],\n",
    "    'n_epochs':[5,10,15,20,25,30],\n",
    "    'biased':[True]\n",
    "    \n",
    "}"
   ]
  },
  {
   "cell_type": "code",
   "execution_count": 168,
   "id": "1e963efe",
   "metadata": {},
   "outputs": [],
   "source": [
    "SVD_gs = GridSearchCV(SVD,SVD_param_grid , measures=['rmse'], cv=gs_cv)\n",
    "SVD_gs.fit(data)"
   ]
  },
  {
   "cell_type": "code",
   "execution_count": 169,
   "id": "7fcdd4b2",
   "metadata": {},
   "outputs": [],
   "source": [
    "SVD_based_algo = SVD_gs.best_estimator['rmse']"
   ]
  },
  {
   "cell_type": "code",
   "execution_count": 170,
   "id": "55c22326",
   "metadata": {},
   "outputs": [
    {
     "data": {
      "text/plain": [
       "{'n_factors': 20, 'n_epochs': 15, 'biased': True}"
      ]
     },
     "execution_count": 170,
     "metadata": {},
     "output_type": "execute_result"
    }
   ],
   "source": [
    "SVD_gs.best_params['rmse']"
   ]
  },
  {
   "cell_type": "code",
   "execution_count": 171,
   "id": "7bb728cf",
   "metadata": {},
   "outputs": [
    {
     "name": "stdout",
     "output_type": "stream",
     "text": [
      "Evaluating RMSE of algorithm SVD on 10 split(s).\n",
      "\n",
      "                  Fold 1  Fold 2  Fold 3  Fold 4  Fold 5  Fold 6  Fold 7  Fold 8  Fold 9  Fold 10 Mean    Std     \n",
      "RMSE (testset)    1.1196  1.0635  1.1660  1.1292  1.1840  1.1158  1.1913  1.1317  1.0823  1.1065  1.1290  0.0394  \n",
      "Fit time          0.01    0.01    0.01    0.01    0.01    0.01    0.01    0.01    0.01    0.01    0.01    0.00    \n",
      "Test time         0.00    0.00    0.00    0.00    0.00    0.00    0.00    0.00    0.00    0.00    0.00    0.00    \n"
     ]
    }
   ],
   "source": [
    "eval_cv = 10\n",
    "SVD_best_result_base = cross_validate(SVD_based_algo, data, measures=['RMSE'], cv=eval_cv, verbose=True)"
   ]
  },
  {
   "cell_type": "markdown",
   "id": "1a19c73c",
   "metadata": {},
   "source": [
    "### content based"
   ]
  },
  {
   "cell_type": "code",
   "execution_count": 181,
   "id": "2ccf70dc",
   "metadata": {
    "scrolled": true
   },
   "outputs": [
    {
     "name": "stdout",
     "output_type": "stream",
     "text": [
      "Computing the cosine similarity matrix...\n",
      "Done computing similarity matrix.\n",
      "Computing the cosine similarity matrix...\n",
      "Done computing similarity matrix.\n",
      "Computing the cosine similarity matrix...\n",
      "Done computing similarity matrix.\n",
      "Computing the cosine similarity matrix...\n",
      "Done computing similarity matrix.\n",
      "Computing the cosine similarity matrix...\n",
      "Done computing similarity matrix.\n",
      "Computing the cosine similarity matrix...\n",
      "Done computing similarity matrix.\n",
      "Computing the cosine similarity matrix...\n",
      "Done computing similarity matrix.\n",
      "Computing the cosine similarity matrix...\n",
      "Done computing similarity matrix.\n",
      "Computing the cosine similarity matrix...\n",
      "Done computing similarity matrix.\n",
      "Computing the cosine similarity matrix...\n",
      "Done computing similarity matrix.\n",
      "Computing the cosine similarity matrix...\n",
      "Done computing similarity matrix.\n",
      "Computing the cosine similarity matrix...\n",
      "Done computing similarity matrix.\n",
      "Computing the cosine similarity matrix...\n",
      "Done computing similarity matrix.\n",
      "Computing the cosine similarity matrix...\n",
      "Done computing similarity matrix.\n",
      "Computing the cosine similarity matrix...\n",
      "Done computing similarity matrix.\n",
      "Computing the cosine similarity matrix...\n",
      "Done computing similarity matrix.\n",
      "Computing the cosine similarity matrix...\n",
      "Done computing similarity matrix.\n",
      "Computing the cosine similarity matrix...\n",
      "Done computing similarity matrix.\n",
      "Computing the cosine similarity matrix...\n",
      "Done computing similarity matrix.\n",
      "Computing the cosine similarity matrix...\n",
      "Done computing similarity matrix.\n",
      "Computing the cosine similarity matrix...\n",
      "Done computing similarity matrix.\n",
      "Computing the cosine similarity matrix...\n",
      "Done computing similarity matrix.\n",
      "Computing the cosine similarity matrix...\n",
      "Done computing similarity matrix.\n",
      "Computing the cosine similarity matrix...\n",
      "Done computing similarity matrix.\n",
      "Computing the cosine similarity matrix...\n",
      "Done computing similarity matrix.\n",
      "Computing the cosine similarity matrix...\n",
      "Done computing similarity matrix.\n",
      "Computing the cosine similarity matrix...\n",
      "Done computing similarity matrix.\n",
      "Computing the cosine similarity matrix...\n",
      "Done computing similarity matrix.\n",
      "Computing the cosine similarity matrix...\n",
      "Done computing similarity matrix.\n",
      "Computing the cosine similarity matrix...\n",
      "Done computing similarity matrix.\n",
      "Computing the cosine similarity matrix...\n",
      "Done computing similarity matrix.\n",
      "Computing the cosine similarity matrix...\n",
      "Done computing similarity matrix.\n",
      "Computing the cosine similarity matrix...\n",
      "Done computing similarity matrix.\n",
      "Computing the cosine similarity matrix...\n",
      "Done computing similarity matrix.\n",
      "Computing the cosine similarity matrix...\n",
      "Done computing similarity matrix.\n",
      "Computing the cosine similarity matrix...\n",
      "Done computing similarity matrix.\n",
      "Computing the cosine similarity matrix...\n",
      "Done computing similarity matrix.\n",
      "Computing the cosine similarity matrix...\n",
      "Done computing similarity matrix.\n",
      "Computing the cosine similarity matrix...\n",
      "Done computing similarity matrix.\n",
      "Computing the cosine similarity matrix...\n",
      "Done computing similarity matrix.\n"
     ]
    }
   ],
   "source": [
    "##grid search\n",
    "param_grid={\n",
    "    'k':[10,20,30,40],\n",
    "    'sim_options':{\n",
    "        'name':['cosine'],\n",
    "        'user_based':[True,False]\n",
    "        \n",
    "    }\n",
    "}\n",
    "cf_gs = GridSearchCV(KNNWithMeans, param_grid, measures=['rmse'], cv=5)\n",
    "\n",
    "cf_gs.fit(data)\n",
    "cf_result=cf_gs.cv_results"
   ]
  },
  {
   "cell_type": "code",
   "execution_count": 182,
   "id": "17eb3513",
   "metadata": {},
   "outputs": [],
   "source": [
    "cf_algo = cf_gs.best_estimator['rmse']"
   ]
  },
  {
   "cell_type": "code",
   "execution_count": 195,
   "id": "001db974",
   "metadata": {},
   "outputs": [
    {
     "data": {
      "text/plain": [
       "{'k': 40, 'sim_options': {'name': 'cosine', 'user_based': False}}"
      ]
     },
     "execution_count": 195,
     "metadata": {},
     "output_type": "execute_result"
    }
   ],
   "source": [
    "cf_gs.best_params['rmse']"
   ]
  },
  {
   "cell_type": "code",
   "execution_count": 183,
   "id": "ecade28f",
   "metadata": {},
   "outputs": [
    {
     "name": "stdout",
     "output_type": "stream",
     "text": [
      "Computing the cosine similarity matrix...\n",
      "Done computing similarity matrix.\n",
      "Computing the cosine similarity matrix...\n",
      "Done computing similarity matrix.\n",
      "Computing the cosine similarity matrix...\n",
      "Done computing similarity matrix.\n",
      "Computing the cosine similarity matrix...\n",
      "Done computing similarity matrix.\n",
      "Computing the cosine similarity matrix...\n",
      "Done computing similarity matrix.\n",
      "Computing the cosine similarity matrix...\n",
      "Done computing similarity matrix.\n",
      "Computing the cosine similarity matrix...\n",
      "Done computing similarity matrix.\n",
      "Computing the cosine similarity matrix...\n",
      "Done computing similarity matrix.\n",
      "Computing the cosine similarity matrix...\n",
      "Done computing similarity matrix.\n",
      "Computing the cosine similarity matrix...\n",
      "Done computing similarity matrix.\n",
      "Evaluating RMSE of algorithm KNNWithMeans on 10 split(s).\n",
      "\n",
      "                  Fold 1  Fold 2  Fold 3  Fold 4  Fold 5  Fold 6  Fold 7  Fold 8  Fold 9  Fold 10 Mean    Std     \n",
      "RMSE (testset)    0.8868  0.8909  0.8879  0.8936  0.8878  0.8889  0.8898  0.8879  0.8907  0.8937  0.8898  0.0023  \n",
      "Fit time          37.84   37.42   36.90   36.85   37.02   37.00   36.95   37.06   37.11   37.13   37.13   0.28    \n",
      "Test time         27.23   26.67   26.65   26.56   26.70   26.17   26.07   26.79   26.21   26.82   26.59   0.33    \n"
     ]
    }
   ],
   "source": [
    "eval_cv = 10\n",
    "cf_best = cross_validate(cf_algo, data, measures=['RMSE'], cv=eval_cv, verbose=True)"
   ]
  },
  {
   "cell_type": "markdown",
   "id": "7e679f73",
   "metadata": {},
   "source": [
    "### user based cf"
   ]
  },
  {
   "cell_type": "code",
   "execution_count": 230,
   "id": "d9e89136",
   "metadata": {},
   "outputs": [
    {
     "name": "stdout",
     "output_type": "stream",
     "text": [
      "Computing the cosine similarity matrix...\n",
      "Done computing similarity matrix.\n",
      "Computing the cosine similarity matrix...\n",
      "Done computing similarity matrix.\n",
      "Computing the cosine similarity matrix...\n",
      "Done computing similarity matrix.\n",
      "Computing the cosine similarity matrix...\n",
      "Done computing similarity matrix.\n",
      "Computing the cosine similarity matrix...\n",
      "Done computing similarity matrix.\n",
      "Computing the cosine similarity matrix...\n",
      "Done computing similarity matrix.\n",
      "Computing the cosine similarity matrix...\n",
      "Done computing similarity matrix.\n",
      "Computing the cosine similarity matrix...\n",
      "Done computing similarity matrix.\n",
      "Computing the cosine similarity matrix...\n",
      "Done computing similarity matrix.\n",
      "Computing the cosine similarity matrix...\n",
      "Done computing similarity matrix.\n",
      "Computing the cosine similarity matrix...\n",
      "Done computing similarity matrix.\n",
      "Computing the cosine similarity matrix...\n",
      "Done computing similarity matrix.\n",
      "Computing the cosine similarity matrix...\n",
      "Done computing similarity matrix.\n",
      "Computing the cosine similarity matrix...\n",
      "Done computing similarity matrix.\n",
      "Computing the cosine similarity matrix...\n",
      "Done computing similarity matrix.\n"
     ]
    }
   ],
   "source": [
    "###user based knn\n",
    "data_ratings=data_ratings.merge(data_users,how='left',on='UserID').fillna(0)\n",
    "reader=Reader()\n",
    "data=Dataset.load_from_df(data_ratings[['UserID','MovieID','Rating']],reader)\n",
    "param_grid={\n",
    "    'k':[10,20,30],\n",
    "    'sim_options':{\n",
    "        'name':['cosine'],\n",
    "        'user_based':[True]\n",
    "        \n",
    "    }\n",
    "}\n",
    "cf_gs_u = GridSearchCV(KNNWithMeans, param_grid, measures=['rmse'], cv=5)\n",
    "\n",
    "cf_gs_u.fit(data)\n",
    "cf_result_u=cf_gs_u.cv_results\n"
   ]
  },
  {
   "cell_type": "code",
   "execution_count": null,
   "id": "837c2209",
   "metadata": {},
   "outputs": [],
   "source": []
  },
  {
   "cell_type": "code",
   "execution_count": 231,
   "id": "b50dd046",
   "metadata": {},
   "outputs": [],
   "source": [
    "cf_algo = cf_gs.best_estimator['rmse']"
   ]
  },
  {
   "cell_type": "code",
   "execution_count": 232,
   "id": "161ea799",
   "metadata": {},
   "outputs": [
    {
     "data": {
      "text/plain": [
       "{'k': 30, 'sim_options': {'name': 'cosine', 'user_based': True}}"
      ]
     },
     "execution_count": 232,
     "metadata": {},
     "output_type": "execute_result"
    }
   ],
   "source": [
    "cf_gs.best_params['rmse']"
   ]
  },
  {
   "cell_type": "code",
   "execution_count": 233,
   "id": "8c4c5fb8",
   "metadata": {},
   "outputs": [
    {
     "name": "stdout",
     "output_type": "stream",
     "text": [
      "Computing the cosine similarity matrix...\n",
      "Done computing similarity matrix.\n",
      "Computing the cosine similarity matrix...\n",
      "Done computing similarity matrix.\n",
      "Computing the cosine similarity matrix...\n",
      "Done computing similarity matrix.\n",
      "Computing the cosine similarity matrix...\n",
      "Done computing similarity matrix.\n",
      "Computing the cosine similarity matrix...\n",
      "Done computing similarity matrix.\n",
      "Computing the cosine similarity matrix...\n",
      "Done computing similarity matrix.\n",
      "Computing the cosine similarity matrix...\n",
      "Done computing similarity matrix.\n",
      "Computing the cosine similarity matrix...\n",
      "Done computing similarity matrix.\n",
      "Computing the cosine similarity matrix...\n",
      "Done computing similarity matrix.\n",
      "Computing the cosine similarity matrix...\n",
      "Done computing similarity matrix.\n",
      "Evaluating RMSE of algorithm KNNWithMeans on 10 split(s).\n",
      "\n",
      "                  Fold 1  Fold 2  Fold 3  Fold 4  Fold 5  Fold 6  Fold 7  Fold 8  Fold 9  Fold 10 Mean    Std     \n",
      "RMSE (testset)    0.9422  0.9427  0.9443  0.9458  0.9400  0.9394  0.9407  0.9414  0.9418  0.9457  0.9424  0.0021  \n",
      "Fit time          98.09   99.66   99.21   99.61   99.34   100.23  100.90  99.94   100.06  100.65  99.77   0.76    \n",
      "Test time         56.26   55.04   56.18   55.11   57.59   56.04   56.15   55.31   56.36   55.73   55.98   0.71    \n"
     ]
    }
   ],
   "source": [
    "eval_cv = 10\n",
    "cf_best_u = cross_validate(cf_algo, data, measures=['RMSE'], cv=eval_cv, verbose=True)"
   ]
  },
  {
   "cell_type": "markdown",
   "id": "e1573771",
   "metadata": {},
   "source": [
    "### T test"
   ]
  },
  {
   "cell_type": "code",
   "execution_count": 172,
   "id": "f308639a",
   "metadata": {},
   "outputs": [
    {
     "data": {
      "text/plain": [
       "Ttest_indResult(statistic=13.073558062794303, pvalue=1.2553110720081454e-10)"
      ]
     },
     "execution_count": 172,
     "metadata": {},
     "output_type": "execute_result"
    }
   ],
   "source": [
    "##test the significance of base model and biased svd\n",
    "from scipy.stats import ttest_ind\n",
    "\n",
    "base = base_model['test_rmse']\n",
    "svd = SVD_best_result_base['test_rmse']\n",
    "\n",
    "ttest_ind(base,svd)"
   ]
  },
  {
   "cell_type": "code",
   "execution_count": 235,
   "id": "506fe9a2",
   "metadata": {},
   "outputs": [
    {
     "data": {
      "text/plain": [
       "Ttest_indResult(statistic=19.317976982761163, pvalue=1.75179267479118e-13)"
      ]
     },
     "execution_count": 235,
     "metadata": {},
     "output_type": "execute_result"
    }
   ],
   "source": [
    "##test the significanve of svd only and the hybrid one\n",
    "svd = SVD_best_result_base['test_rmse']\n",
    "hybrid = hybrid_svd['test_rmse']\n",
    "\n",
    "ttest_ind(svd,hybrid)"
   ]
  },
  {
   "cell_type": "code",
   "execution_count": 186,
   "id": "43921152",
   "metadata": {},
   "outputs": [
    {
     "data": {
      "text/plain": [
       "Ttest_indResult(statistic=18.18257470567873, pvalue=4.955077912190384e-13)"
      ]
     },
     "execution_count": 186,
     "metadata": {},
     "output_type": "execute_result"
    }
   ],
   "source": [
    "##test the significanve of svd only and the cf\n",
    "svd = SVD_best_result_base['test_rmse']\n",
    "cf = cf_best['test_rmse']\n",
    "\n",
    "ttest_ind(svd,cf)"
   ]
  },
  {
   "cell_type": "code",
   "execution_count": 187,
   "id": "4d7de5b6",
   "metadata": {},
   "outputs": [
    {
     "data": {
      "text/plain": [
       "Ttest_indResult(statistic=13.018565011804215, pvalue=1.3449562671998268e-10)"
      ]
     },
     "execution_count": 187,
     "metadata": {},
     "output_type": "execute_result"
    }
   ],
   "source": [
    "##test the significanve of hybrid and the cf\n",
    "hybrid = hybrid_svd['test_rmse']\n",
    "cf = cf_best['test_rmse']\n",
    "\n",
    "ttest_ind(cf,hybrid)"
   ]
  },
  {
   "cell_type": "code",
   "execution_count": null,
   "id": "63887bc4",
   "metadata": {},
   "outputs": [],
   "source": [
    "##user based and hybrid"
   ]
  },
  {
   "cell_type": "code",
   "execution_count": 234,
   "id": "fe0ee961",
   "metadata": {},
   "outputs": [
    {
     "data": {
      "text/plain": [
       "Ttest_indResult(statistic=60.2540746748825, pvalue=3.218158509364976e-22)"
      ]
     },
     "execution_count": 234,
     "metadata": {},
     "output_type": "execute_result"
    }
   ],
   "source": [
    "hybrid = hybrid_svd['test_rmse']\n",
    "cf = cf_best_u['test_rmse']\n",
    "\n",
    "ttest_ind(cf,hybrid)"
   ]
  },
  {
   "cell_type": "code",
   "execution_count": null,
   "id": "1ac40e63",
   "metadata": {},
   "outputs": [],
   "source": [
    "##hybrid and baseline"
   ]
  },
  {
   "cell_type": "code",
   "execution_count": 236,
   "id": "c19019cb",
   "metadata": {},
   "outputs": [
    {
     "data": {
      "text/plain": [
       "Ttest_indResult(statistic=24.244742610584954, pvalue=3.39314596555365e-15)"
      ]
     },
     "execution_count": 236,
     "metadata": {},
     "output_type": "execute_result"
    }
   ],
   "source": [
    "ttest_ind(base,hybrid)"
   ]
  },
  {
   "cell_type": "code",
   "execution_count": null,
   "id": "5c99f5b3",
   "metadata": {},
   "outputs": [],
   "source": []
  },
  {
   "cell_type": "code",
   "execution_count": null,
   "id": "05004fe5",
   "metadata": {},
   "outputs": [],
   "source": []
  },
  {
   "cell_type": "code",
   "execution_count": null,
   "id": "04ee97fb",
   "metadata": {},
   "outputs": [],
   "source": [
    "\n"
   ]
  },
  {
   "cell_type": "code",
   "execution_count": null,
   "id": "f814c07a",
   "metadata": {
    "scrolled": false
   },
   "outputs": [],
   "source": []
  },
  {
   "cell_type": "code",
   "execution_count": 119,
   "id": "c58974af",
   "metadata": {
    "scrolled": true
   },
   "outputs": [],
   "source": []
  },
  {
   "cell_type": "code",
   "execution_count": null,
   "id": "0d4abddd",
   "metadata": {
    "scrolled": true
   },
   "outputs": [],
   "source": []
  },
  {
   "cell_type": "code",
   "execution_count": null,
   "id": "a1ce89f1",
   "metadata": {},
   "outputs": [],
   "source": []
  },
  {
   "cell_type": "code",
   "execution_count": null,
   "id": "6bac6ec1",
   "metadata": {},
   "outputs": [],
   "source": []
  },
  {
   "cell_type": "code",
   "execution_count": 130,
   "id": "442f6602",
   "metadata": {},
   "outputs": [],
   "source": []
  },
  {
   "cell_type": "code",
   "execution_count": null,
   "id": "00931d70",
   "metadata": {
    "scrolled": true
   },
   "outputs": [],
   "source": []
  },
  {
   "cell_type": "code",
   "execution_count": null,
   "id": "eb63c4b6",
   "metadata": {},
   "outputs": [],
   "source": []
  },
  {
   "cell_type": "code",
   "execution_count": null,
   "id": "c33a9987",
   "metadata": {
    "scrolled": true
   },
   "outputs": [],
   "source": []
  },
  {
   "cell_type": "code",
   "execution_count": null,
   "id": "d100867c",
   "metadata": {},
   "outputs": [],
   "source": []
  },
  {
   "cell_type": "code",
   "execution_count": null,
   "id": "1198de78",
   "metadata": {},
   "outputs": [],
   "source": []
  },
  {
   "cell_type": "code",
   "execution_count": null,
   "id": "2787d0ab",
   "metadata": {},
   "outputs": [],
   "source": []
  },
  {
   "cell_type": "code",
   "execution_count": null,
   "id": "cc56ebe0",
   "metadata": {},
   "outputs": [],
   "source": []
  }
 ],
 "metadata": {
  "kernelspec": {
   "display_name": "Python 3 (ipykernel)",
   "language": "python",
   "name": "python3"
  },
  "language_info": {
   "codemirror_mode": {
    "name": "ipython",
    "version": 3
   },
   "file_extension": ".py",
   "mimetype": "text/x-python",
   "name": "python",
   "nbconvert_exporter": "python",
   "pygments_lexer": "ipython3",
   "version": "3.9.7"
  }
 },
 "nbformat": 4,
 "nbformat_minor": 5
}
